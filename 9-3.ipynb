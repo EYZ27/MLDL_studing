{
 "cells": [
  {
   "attachments": {},
   "cell_type": "markdown",
   "metadata": {
    "id": "AlaMdWF26k2H"
   },
   "source": [
    "# LSTM과 GRU 셀\n",
    "\n",
    "고급 순환층으로, SimpleRNN보다 계산이 훨씬 복잡하지만 성능이 뛰어나다.   \n",
    "시퀀스가 길수록 순환되는 은닉 상태에 담긴 정보가 점차 희석되기 때문에 학습이 어렵다.   \n",
    "멀리 떨어져 있는 단어 정보를 인식하기 위해 LSTM과 GRU 셀이 발명되었다."
   ]
  },
  {
   "cell_type": "code",
   "execution_count": 29,
   "metadata": {},
   "outputs": [],
   "source": [
    "# 실행마다 동일한 결과를 얻기 위해 케라스에 랜덤 시드를 사용하고 텐서플로 연산을 결정적으로 만듭니다. \n",
    "import tensorflow as tf\n",
    "\n",
    "tf.keras.utils.set_random_seed(42)\n",
    "tf.config.experimental.enable_op_determinism()"
   ]
  },
  {
   "attachments": {},
   "cell_type": "markdown",
   "metadata": {
    "id": "KWi9yl0q6k2N"
   },
   "source": [
    "LSTM에는 '입력과 가중치를 곱하고 -> 절편을 더해 -> 활성화 함수를 통과'시키는 구조가 여러개 있다.   \n",
    "이 계산 결과가 다음 타임스텝에 이용된다.   \n",
    "\n",
    "LSTM에는 순환되는 상태가 2개 있는데, '은닉 상태'와 '셀 상태'가 있다.   \n",
    "> '셀 상태'는 다음 층으로 저달되지 않고 LSTM 셀에서 순환만 되는 값   \n",
    "\n",
    "1. 은닉 상태 만들기   \n",
    "(1) 입력값과 (이전) 은닉 상태를 <u>가중치($w_o$)</u>에 곱한 후, sigmoid 함수를 통과시킨다.    \n",
    "(2) tanh 활성화 함수를 통과한 '셀 상태'와 곱해져서 (다음) 은닉 상태를 만든다.   \n",
    "\n",
    "2. 셀 상태 만들기     \n",
    "(1) 입력값과 은닉 상태를 <u>또 다른 가중치 $w_f$</u>에 곱한 다음, sigmoid 함수를 통과시킨다.  \n",
    "(2) 그 다음, 이전 셀 상태와 곱하여 <u>새로운</u> 셀 상태(초록색 순환)를 만든다. (이전 셀 상태 삭제-덮어쓰기)   \n",
    "(3) tanh 함수를 통과하여 새로운 은닉 상태(분홍색 순환)를 만드는 데 기여한다.   \n",
    "(4) 2개의 셀 더 추가! : 입력값과 (이전) 은닉 상태를 가중치 $w_i$와 $w_j$에 각각 곱한 다음, $w_i$는 sigmoid, $w_j$는 tanh 함수에 통과시킨다.   \n",
    "(5) 두 결과를 곱한 후, 이전 셀 상태와 <u>더한다</u>. \n",
    "\n",
    "<img src=\"LSTM2.png\" width=500>"
   ]
  },
  {
   "attachments": {},
   "cell_type": "markdown",
   "metadata": {},
   "source": [
    "## LSTM 신경망 훈련하기"
   ]
  },
  {
   "cell_type": "code",
   "execution_count": 3,
   "metadata": {
    "colab": {
     "base_uri": "https://localhost:8080/"
    },
    "id": "XL7x0NCx6k2N",
    "outputId": "d5c9f55e-6a51-49b7-e739-d2242adddcae"
   },
   "outputs": [],
   "source": [
    "from tensorflow.keras.datasets import imdb\n",
    "from sklearn.model_selection import train_test_split\n",
    "\n",
    "# IMDB 데이터 로드\n",
    "(train_input, train_target), (test_input, test_target) = imdb.load_data(num_words= 500)\n",
    "\n",
    "train_input, val_input, train_target, val_target = train_test_split(\n",
    "    train_input, train_target, test_size=0.2, random_state=42)"
   ]
  },
  {
   "cell_type": "code",
   "execution_count": 4,
   "metadata": {
    "id": "5bjJ14QJ6k2O"
   },
   "outputs": [],
   "source": [
    "from tensorflow.keras.preprocessing.sequence import pad_sequences\n",
    "\n",
    "# 샘플 길이 맞추기\n",
    "train_seq = pad_sequences(train_input, maxlen=100)\n",
    "val_seq = pad_sequences(val_input, maxlen=100)"
   ]
  },
  {
   "cell_type": "code",
   "execution_count": 14,
   "metadata": {
    "colab": {
     "base_uri": "https://localhost:8080/"
    },
    "id": "uMlTD4zv6k2O",
    "outputId": "dc7c0080-f72c-4032-caf4-1a8e63202989"
   },
   "outputs": [
    {
     "name": "stdout",
     "output_type": "stream",
     "text": [
      "Model: \"sequential_2\"\n",
      "_________________________________________________________________\n",
      " Layer (type)                Output Shape              Param #   \n",
      "=================================================================\n",
      " embedding_2 (Embedding)     (None, 100, 16)           8000      \n",
      "                                                                 \n",
      " lstm_2 (LSTM)               (None, 8)                 800       \n",
      "                                                                 \n",
      " dense_2 (Dense)             (None, 1)                 9         \n",
      "                                                                 \n",
      "=================================================================\n",
      "Total params: 8,809\n",
      "Trainable params: 8,809\n",
      "Non-trainable params: 0\n",
      "_________________________________________________________________\n"
     ]
    }
   ],
   "source": [
    "from tensorflow import keras\n",
    "\n",
    "model = keras.Sequential()\n",
    "\n",
    "# 단어 임베딩 사용\n",
    "model.add(keras.layers.Embedding(500, 16, input_length=100))\n",
    "\n",
    "# LSTM 층 추가\n",
    "model.add(keras.layers.LSTM(8))\n",
    "model.add(keras.layers.Dense(1, activation='sigmoid'))\n",
    "\n",
    "# 모델 구조 출력\n",
    "model.summary()"
   ]
  },
  {
   "attachments": {},
   "cell_type": "markdown",
   "metadata": {},
   "source": [
    "LSTM 셀에는 작은 셀이 4개가 있어서 SimpleRNN 클래스에 비해 4배가 늘어 파라미터 개수가 800개가 되었다."
   ]
  },
  {
   "cell_type": "code",
   "execution_count": 15,
   "metadata": {},
   "outputs": [
    {
     "name": "stdout",
     "output_type": "stream",
     "text": [
      "Epoch 1/100\n",
      "313/313 [==============================] - 9s 23ms/step - loss: 0.6924 - accuracy: 0.5360 - val_loss: 0.6915 - val_accuracy: 0.5686\n",
      "Epoch 2/100\n",
      "313/313 [==============================] - 7s 22ms/step - loss: 0.6899 - accuracy: 0.6011 - val_loss: 0.6882 - val_accuracy: 0.6208\n",
      "Epoch 3/100\n",
      "313/313 [==============================] - 7s 22ms/step - loss: 0.6842 - accuracy: 0.6400 - val_loss: 0.6798 - val_accuracy: 0.6482\n",
      "Epoch 4/100\n",
      "313/313 [==============================] - 7s 23ms/step - loss: 0.6668 - accuracy: 0.6774 - val_loss: 0.6489 - val_accuracy: 0.6908\n",
      "Epoch 5/100\n",
      "313/313 [==============================] - 7s 23ms/step - loss: 0.5977 - accuracy: 0.7206 - val_loss: 0.5650 - val_accuracy: 0.7280\n",
      "Epoch 6/100\n",
      "313/313 [==============================] - 7s 23ms/step - loss: 0.5432 - accuracy: 0.7416 - val_loss: 0.5311 - val_accuracy: 0.7472\n",
      "Epoch 7/100\n",
      "313/313 [==============================] - 7s 23ms/step - loss: 0.5139 - accuracy: 0.7623 - val_loss: 0.5065 - val_accuracy: 0.7672\n",
      "Epoch 8/100\n",
      "313/313 [==============================] - 7s 23ms/step - loss: 0.4910 - accuracy: 0.7760 - val_loss: 0.4895 - val_accuracy: 0.7766\n",
      "Epoch 9/100\n",
      "313/313 [==============================] - 7s 23ms/step - loss: 0.4738 - accuracy: 0.7850 - val_loss: 0.4749 - val_accuracy: 0.7800\n",
      "Epoch 10/100\n",
      "313/313 [==============================] - 7s 22ms/step - loss: 0.4614 - accuracy: 0.7921 - val_loss: 0.4665 - val_accuracy: 0.7830\n",
      "Epoch 11/100\n",
      "313/313 [==============================] - 7s 23ms/step - loss: 0.4527 - accuracy: 0.7954 - val_loss: 0.4608 - val_accuracy: 0.7876\n",
      "Epoch 12/100\n",
      "313/313 [==============================] - 7s 23ms/step - loss: 0.4459 - accuracy: 0.7993 - val_loss: 0.4563 - val_accuracy: 0.7892\n",
      "Epoch 13/100\n",
      "313/313 [==============================] - 7s 23ms/step - loss: 0.4403 - accuracy: 0.8024 - val_loss: 0.4524 - val_accuracy: 0.7896\n",
      "Epoch 14/100\n",
      "313/313 [==============================] - 7s 23ms/step - loss: 0.4358 - accuracy: 0.8043 - val_loss: 0.4506 - val_accuracy: 0.7910\n",
      "Epoch 15/100\n",
      "313/313 [==============================] - 7s 23ms/step - loss: 0.4322 - accuracy: 0.8082 - val_loss: 0.4563 - val_accuracy: 0.7934\n",
      "Epoch 16/100\n",
      "313/313 [==============================] - 7s 23ms/step - loss: 0.4288 - accuracy: 0.8077 - val_loss: 0.4493 - val_accuracy: 0.7944\n",
      "Epoch 17/100\n",
      "313/313 [==============================] - 7s 23ms/step - loss: 0.4259 - accuracy: 0.8098 - val_loss: 0.4462 - val_accuracy: 0.7952\n",
      "Epoch 18/100\n",
      "313/313 [==============================] - 8s 25ms/step - loss: 0.4238 - accuracy: 0.8109 - val_loss: 0.4430 - val_accuracy: 0.7924\n",
      "Epoch 19/100\n",
      "313/313 [==============================] - 9s 28ms/step - loss: 0.4214 - accuracy: 0.8126 - val_loss: 0.4453 - val_accuracy: 0.7916\n",
      "Epoch 20/100\n",
      "313/313 [==============================] - 9s 28ms/step - loss: 0.4191 - accuracy: 0.8144 - val_loss: 0.4400 - val_accuracy: 0.7956\n",
      "Epoch 21/100\n",
      "313/313 [==============================] - 9s 28ms/step - loss: 0.4179 - accuracy: 0.8133 - val_loss: 0.4384 - val_accuracy: 0.7966\n",
      "Epoch 22/100\n",
      "313/313 [==============================] - 9s 28ms/step - loss: 0.4164 - accuracy: 0.8142 - val_loss: 0.4414 - val_accuracy: 0.7994\n",
      "Epoch 23/100\n",
      "313/313 [==============================] - 9s 28ms/step - loss: 0.4151 - accuracy: 0.8163 - val_loss: 0.4368 - val_accuracy: 0.8004\n",
      "Epoch 24/100\n",
      "313/313 [==============================] - 7s 24ms/step - loss: 0.4134 - accuracy: 0.8170 - val_loss: 0.4374 - val_accuracy: 0.7962\n",
      "Epoch 25/100\n",
      "313/313 [==============================] - 8s 25ms/step - loss: 0.4125 - accuracy: 0.8159 - val_loss: 0.4352 - val_accuracy: 0.7986\n",
      "Epoch 26/100\n",
      "313/313 [==============================] - 8s 24ms/step - loss: 0.4113 - accuracy: 0.8179 - val_loss: 0.4367 - val_accuracy: 0.7992\n",
      "Epoch 27/100\n",
      "313/313 [==============================] - 8s 24ms/step - loss: 0.4103 - accuracy: 0.8171 - val_loss: 0.4345 - val_accuracy: 0.7998\n",
      "Epoch 28/100\n",
      "313/313 [==============================] - 8s 25ms/step - loss: 0.4098 - accuracy: 0.8179 - val_loss: 0.4354 - val_accuracy: 0.7990\n",
      "Epoch 29/100\n",
      "313/313 [==============================] - 7s 23ms/step - loss: 0.4084 - accuracy: 0.8169 - val_loss: 0.4366 - val_accuracy: 0.8032\n",
      "Epoch 30/100\n",
      "313/313 [==============================] - 7s 23ms/step - loss: 0.4074 - accuracy: 0.8186 - val_loss: 0.4345 - val_accuracy: 0.8014\n",
      "Epoch 31/100\n",
      "313/313 [==============================] - 7s 23ms/step - loss: 0.4061 - accuracy: 0.8196 - val_loss: 0.4396 - val_accuracy: 0.7944\n",
      "Epoch 32/100\n",
      "313/313 [==============================] - 7s 23ms/step - loss: 0.4056 - accuracy: 0.8193 - val_loss: 0.4319 - val_accuracy: 0.8024\n",
      "Epoch 33/100\n",
      "313/313 [==============================] - 7s 23ms/step - loss: 0.4048 - accuracy: 0.8205 - val_loss: 0.4327 - val_accuracy: 0.8038\n",
      "Epoch 34/100\n",
      "313/313 [==============================] - 8s 26ms/step - loss: 0.4040 - accuracy: 0.8199 - val_loss: 0.4345 - val_accuracy: 0.8052\n",
      "Epoch 35/100\n",
      "313/313 [==============================] - 7s 23ms/step - loss: 0.4039 - accuracy: 0.8209 - val_loss: 0.4323 - val_accuracy: 0.8042\n"
     ]
    }
   ],
   "source": [
    "# 모델 컴파일\n",
    "rmsprop = keras.optimizers.RMSprop(learning_rate=1e-4)\n",
    "model.compile(optimizer=rmsprop, loss='binary_crossentropy', \n",
    "              metrics=['accuracy'])\n",
    "\n",
    "# 체크포인트, 조기종료 콜백 지정\n",
    "checkpoint_cb = keras.callbacks.ModelCheckpoint('best-lstm-model.h5', \n",
    "                                                save_best_only=True)\n",
    "early_stopping_cb = keras.callbacks.EarlyStopping(patience=3,\n",
    "                                                  restore_best_weights=True)\n",
    "\n",
    "# 모델 훈련\n",
    "history = model.fit(train_seq, train_target, epochs=100, batch_size=64,\n",
    "                    validation_data=(val_seq, val_target),\n",
    "                    callbacks=[checkpoint_cb, early_stopping_cb])"
   ]
  },
  {
   "cell_type": "code",
   "execution_count": 16,
   "metadata": {},
   "outputs": [
    {
     "data": {
      "image/png": "[encoded data removed]",
      "text/plain": [
       "<Figure size 640x480 with 1 Axes>"
      ]
     },
     "metadata": {},
     "output_type": "display_data"
    }
   ],
   "source": [
    "import matplotlib.pyplot as plt\n",
    "\n",
    "# 시각화\n",
    "plt.plot(history.history['loss'])\n",
    "plt.plot(history.history['val_loss'])\n",
    "plt.xlabel('epoch')\n",
    "plt.ylabel('loss')\n",
    "plt.legend(['train', 'val'])\n",
    "plt.show()"
   ]
  },
  {
   "attachments": {},
   "cell_type": "markdown",
   "metadata": {},
   "source": [
    "기본 순환층보다 LSTM이 과대적합을 억제하면서 훈련을 잘 수행한 것으로 보인다.   \n",
    "경우에 따라서는 과대 적합을 더 강하게 제어할 필요가 있으므로, 드롭아웃을 적용해보자."
   ]
  },
  {
   "attachments": {},
   "cell_type": "markdown",
   "metadata": {
    "id": "ob79h7Kc6k2Q"
   },
   "source": [
    "## 순환 층에 드롭아웃 적용하기\n",
    "\n",
    "순환층은 자체적으로 드롭아웃 기능을 제공한다.   \n",
    "SimpleRNN과 LSTM 클래스 모두 dropout 매개변수과 recurrent_dropout 매개변수를 가지고 있다.   \n",
    "* dropout : 셀의 입력에 드롭아웃 적용    \n",
    "* recurrent_dropout : 순환되는 은닉 상태에 드롭아웃 적용 - GPU를 사용하지 못한다는 단점이 있다(훈련 속도 느려짐)."
   ]
  },
  {
   "cell_type": "code",
   "execution_count": 17,
   "metadata": {
    "id": "Fr0DUR-Y6k2R"
   },
   "outputs": [],
   "source": [
    "model2 = keras.Sequential()\n",
    "\n",
    "model2.add(keras.layers.Embedding(500, 16, input_length=100))\n",
    "# LSTM 층에 dropout=0.3 매개변수 추가\n",
    "model2.add(keras.layers.LSTM(8, dropout=0.3))\n",
    "model2.add(keras.layers.Dense(1, activation='sigmoid'))"
   ]
  },
  {
   "cell_type": "code",
   "execution_count": 18,
   "metadata": {
    "colab": {
     "base_uri": "https://localhost:8080/"
    },
    "id": "Ap8XxUO46k2R",
    "outputId": "5953909f-5c48-43e9-b321-8b5f3ed0d52a"
   },
   "outputs": [
    {
     "name": "stdout",
     "output_type": "stream",
     "text": [
      "Epoch 1/100\n",
      "313/313 [==============================] - 9s 24ms/step - loss: 0.6930 - accuracy: 0.5168 - val_loss: 0.6927 - val_accuracy: 0.5336\n",
      "Epoch 2/100\n",
      "313/313 [==============================] - 7s 23ms/step - loss: 0.6923 - accuracy: 0.5555 - val_loss: 0.6919 - val_accuracy: 0.5666\n",
      "Epoch 3/100\n",
      "313/313 [==============================] - 7s 23ms/step - loss: 0.6907 - accuracy: 0.5982 - val_loss: 0.6894 - val_accuracy: 0.6006\n",
      "Epoch 4/100\n",
      "313/313 [==============================] - 7s 23ms/step - loss: 0.6820 - accuracy: 0.6202 - val_loss: 0.6677 - val_accuracy: 0.6162\n",
      "Epoch 5/100\n",
      "313/313 [==============================] - 7s 23ms/step - loss: 0.6374 - accuracy: 0.6777 - val_loss: 0.6235 - val_accuracy: 0.6936\n",
      "Epoch 6/100\n",
      "313/313 [==============================] - 7s 23ms/step - loss: 0.6107 - accuracy: 0.7015 - val_loss: 0.6003 - val_accuracy: 0.7158\n",
      "Epoch 7/100\n",
      "313/313 [==============================] - 7s 23ms/step - loss: 0.5887 - accuracy: 0.7196 - val_loss: 0.5797 - val_accuracy: 0.7256\n",
      "Epoch 8/100\n",
      "313/313 [==============================] - 7s 24ms/step - loss: 0.5655 - accuracy: 0.7400 - val_loss: 0.5565 - val_accuracy: 0.7478\n",
      "Epoch 9/100\n",
      "313/313 [==============================] - 7s 23ms/step - loss: 0.5446 - accuracy: 0.7509 - val_loss: 0.5339 - val_accuracy: 0.7630\n",
      "Epoch 10/100\n",
      "313/313 [==============================] - 7s 23ms/step - loss: 0.5222 - accuracy: 0.7645 - val_loss: 0.5156 - val_accuracy: 0.7670\n",
      "Epoch 11/100\n",
      "313/313 [==============================] - 7s 23ms/step - loss: 0.5061 - accuracy: 0.7747 - val_loss: 0.4995 - val_accuracy: 0.7822\n",
      "Epoch 12/100\n",
      "313/313 [==============================] - 7s 24ms/step - loss: 0.4935 - accuracy: 0.7773 - val_loss: 0.4882 - val_accuracy: 0.7862\n",
      "Epoch 13/100\n",
      "313/313 [==============================] - 7s 24ms/step - loss: 0.4819 - accuracy: 0.7836 - val_loss: 0.4801 - val_accuracy: 0.7908\n",
      "Epoch 14/100\n",
      "313/313 [==============================] - 7s 23ms/step - loss: 0.4741 - accuracy: 0.7891 - val_loss: 0.4732 - val_accuracy: 0.7904\n",
      "Epoch 15/100\n",
      "313/313 [==============================] - 7s 24ms/step - loss: 0.4667 - accuracy: 0.7923 - val_loss: 0.4793 - val_accuracy: 0.7800\n",
      "Epoch 16/100\n",
      "313/313 [==============================] - 8s 24ms/step - loss: 0.4600 - accuracy: 0.7925 - val_loss: 0.4649 - val_accuracy: 0.7868\n",
      "Epoch 17/100\n",
      "313/313 [==============================] - 8s 25ms/step - loss: 0.4551 - accuracy: 0.7950 - val_loss: 0.4616 - val_accuracy: 0.7898\n",
      "Epoch 18/100\n",
      "313/313 [==============================] - 8s 24ms/step - loss: 0.4521 - accuracy: 0.7964 - val_loss: 0.4547 - val_accuracy: 0.7974\n",
      "Epoch 19/100\n",
      "313/313 [==============================] - 8s 25ms/step - loss: 0.4466 - accuracy: 0.8011 - val_loss: 0.4521 - val_accuracy: 0.7978\n",
      "Epoch 20/100\n",
      "313/313 [==============================] - 8s 25ms/step - loss: 0.4421 - accuracy: 0.8008 - val_loss: 0.4483 - val_accuracy: 0.7998\n",
      "Epoch 21/100\n",
      "313/313 [==============================] - 8s 24ms/step - loss: 0.4410 - accuracy: 0.8008 - val_loss: 0.4459 - val_accuracy: 0.7982\n",
      "Epoch 22/100\n",
      "313/313 [==============================] - 8s 24ms/step - loss: 0.4379 - accuracy: 0.8030 - val_loss: 0.4475 - val_accuracy: 0.7940\n",
      "Epoch 23/100\n",
      "313/313 [==============================] - 7s 24ms/step - loss: 0.4361 - accuracy: 0.8022 - val_loss: 0.4425 - val_accuracy: 0.7998\n",
      "Epoch 24/100\n",
      "313/313 [==============================] - 8s 24ms/step - loss: 0.4326 - accuracy: 0.8046 - val_loss: 0.4415 - val_accuracy: 0.7964\n",
      "Epoch 25/100\n",
      "313/313 [==============================] - 8s 25ms/step - loss: 0.4333 - accuracy: 0.8031 - val_loss: 0.4402 - val_accuracy: 0.7958\n",
      "Epoch 26/100\n",
      "313/313 [==============================] - 8s 24ms/step - loss: 0.4301 - accuracy: 0.8062 - val_loss: 0.4397 - val_accuracy: 0.7968\n",
      "Epoch 27/100\n",
      "313/313 [==============================] - 8s 25ms/step - loss: 0.4271 - accuracy: 0.8089 - val_loss: 0.4372 - val_accuracy: 0.7984\n",
      "Epoch 28/100\n",
      "313/313 [==============================] - 8s 24ms/step - loss: 0.4276 - accuracy: 0.8076 - val_loss: 0.4367 - val_accuracy: 0.7974\n",
      "Epoch 29/100\n",
      "313/313 [==============================] - 8s 24ms/step - loss: 0.4266 - accuracy: 0.8091 - val_loss: 0.4379 - val_accuracy: 0.8004\n",
      "Epoch 30/100\n",
      "313/313 [==============================] - 8s 24ms/step - loss: 0.4244 - accuracy: 0.8088 - val_loss: 0.4359 - val_accuracy: 0.7974\n",
      "Epoch 31/100\n",
      "313/313 [==============================] - 8s 24ms/step - loss: 0.4225 - accuracy: 0.8080 - val_loss: 0.4384 - val_accuracy: 0.7942\n",
      "Epoch 32/100\n",
      "313/313 [==============================] - 8s 24ms/step - loss: 0.4218 - accuracy: 0.8091 - val_loss: 0.4341 - val_accuracy: 0.7960\n",
      "Epoch 33/100\n",
      "313/313 [==============================] - 8s 24ms/step - loss: 0.4221 - accuracy: 0.8069 - val_loss: 0.4364 - val_accuracy: 0.8014\n",
      "Epoch 34/100\n",
      "313/313 [==============================] - 7s 24ms/step - loss: 0.4198 - accuracy: 0.8098 - val_loss: 0.4340 - val_accuracy: 0.8036\n",
      "Epoch 35/100\n",
      "313/313 [==============================] - 8s 24ms/step - loss: 0.4211 - accuracy: 0.8087 - val_loss: 0.4341 - val_accuracy: 0.8052\n",
      "Epoch 36/100\n",
      "313/313 [==============================] - 7s 24ms/step - loss: 0.4191 - accuracy: 0.8091 - val_loss: 0.4320 - val_accuracy: 0.8000\n",
      "Epoch 37/100\n",
      "313/313 [==============================] - 8s 24ms/step - loss: 0.4189 - accuracy: 0.8092 - val_loss: 0.4362 - val_accuracy: 0.8036\n",
      "Epoch 38/100\n",
      "313/313 [==============================] - 8s 24ms/step - loss: 0.4174 - accuracy: 0.8107 - val_loss: 0.4316 - val_accuracy: 0.8038\n",
      "Epoch 39/100\n",
      "313/313 [==============================] - 8s 24ms/step - loss: 0.4182 - accuracy: 0.8097 - val_loss: 0.4306 - val_accuracy: 0.8008\n",
      "Epoch 40/100\n",
      "313/313 [==============================] - 8s 26ms/step - loss: 0.4189 - accuracy: 0.8093 - val_loss: 0.4336 - val_accuracy: 0.7956\n",
      "Epoch 41/100\n",
      "313/313 [==============================] - 8s 27ms/step - loss: 0.4155 - accuracy: 0.8115 - val_loss: 0.4303 - val_accuracy: 0.8012\n",
      "Epoch 42/100\n",
      "313/313 [==============================] - 8s 25ms/step - loss: 0.4152 - accuracy: 0.8109 - val_loss: 0.4308 - val_accuracy: 0.8032\n",
      "Epoch 43/100\n",
      "313/313 [==============================] - 7s 24ms/step - loss: 0.4155 - accuracy: 0.8103 - val_loss: 0.4313 - val_accuracy: 0.7992\n",
      "Epoch 44/100\n",
      "313/313 [==============================] - 7s 23ms/step - loss: 0.4150 - accuracy: 0.8116 - val_loss: 0.4304 - val_accuracy: 0.8056\n"
     ]
    }
   ],
   "source": [
    "# 모델 컴파일\n",
    "rmsprop = keras.optimizers.RMSprop(learning_rate=1e-4)\n",
    "model2.compile(optimizer=rmsprop, loss='binary_crossentropy', \n",
    "               metrics=['accuracy'])\n",
    "\n",
    "# 체크포인트, 조기종료 콜백 지정\n",
    "checkpoint_cb = keras.callbacks.ModelCheckpoint('best-dropout-model.h5', \n",
    "                                                save_best_only=True)\n",
    "early_stopping_cb = keras.callbacks.EarlyStopping(patience=3,\n",
    "                                                  restore_best_weights=True)\n",
    "\n",
    "# 모델 훈련\n",
    "history = model2.fit(train_seq, train_target, epochs=100, batch_size=64,\n",
    "                     validation_data=(val_seq, val_target),\n",
    "                     callbacks=[checkpoint_cb, early_stopping_cb])"
   ]
  },
  {
   "cell_type": "code",
   "execution_count": 19,
   "metadata": {
    "colab": {
     "base_uri": "https://localhost:8080/",
     "height": 279
    },
    "id": "Qzwsp3pl6k2R",
    "outputId": "97305973-3c11-4c55-c466-a608273094cb"
   },
   "outputs": [
    {
     "data": {
      "image/png": "[encoded data removed]",
      "text/plain": [
       "<Figure size 640x480 with 1 Axes>"
      ]
     },
     "metadata": {},
     "output_type": "display_data"
    }
   ],
   "source": [
    "# 시각화\n",
    "plt.plot(history.history['loss'])\n",
    "plt.plot(history.history['val_loss'])\n",
    "plt.xlabel('epoch')\n",
    "plt.ylabel('loss')\n",
    "plt.legend(['train', 'val'])\n",
    "plt.show()"
   ]
  },
  {
   "attachments": {},
   "cell_type": "markdown",
   "metadata": {},
   "source": [
    "드롭아웃을 적용한 결과, 훈련 손실과 검증 손실 간의 차이가 좁혀진 것을 확인할 수 있다."
   ]
  },
  {
   "attachments": {},
   "cell_type": "markdown",
   "metadata": {
    "id": "DKtQByM96k2S"
   },
   "source": [
    "## 2개의 층을 연결하기\n",
    "\n",
    "* 순환층을 연결할 때 주의할 점:    \n",
    "순환층의 은닉 상태는 샘플의 마지막 타임스텝에 대한 은닉 상태만 다음 층으로 전달한다.   \n",
    "순환층을 쌓게 되면 모든 순환층에 순차 데이터가 필요하다.   \n",
    "(마지막 은닉 상태만 받을거면 순환층 하나를 2배로 돌리면 되지 층 쌓을 필요가 없어지..니까?)   \n",
    "> 마지막 이전의 순환층은 모든 타임스텝에 대한 은닉 상태를 출력해야 한다.   \n",
    "> 마지막 순환층만 마지막 타임스텝의 은닉 상태를 출력해야 한다.\n",
    "\n",
    "이를 위해서는 마지막을 제외한 모든 순환층에 return_sequences=True 지정해야 한다.   \n",
    "(상상만 해도 오래 걸리겠는데....)"
   ]
  },
  {
   "cell_type": "code",
   "execution_count": 20,
   "metadata": {
    "colab": {
     "base_uri": "https://localhost:8080/"
    },
    "id": "YkQboCpD6k2S",
    "outputId": "5f30a5ec-16a9-476a-95b6-3d55b36b64b4"
   },
   "outputs": [
    {
     "name": "stdout",
     "output_type": "stream",
     "text": [
      "Model: \"sequential_4\"\n",
      "_________________________________________________________________\n",
      " Layer (type)                Output Shape              Param #   \n",
      "=================================================================\n",
      " embedding_4 (Embedding)     (None, 100, 16)           8000      \n",
      "                                                                 \n",
      " lstm_4 (LSTM)               (None, 100, 8)            800       \n",
      "                                                                 \n",
      " lstm_5 (LSTM)               (None, 8)                 544       \n",
      "                                                                 \n",
      " dense_4 (Dense)             (None, 1)                 9         \n",
      "                                                                 \n",
      "=================================================================\n",
      "Total params: 9,353\n",
      "Trainable params: 9,353\n",
      "Non-trainable params: 0\n",
      "_________________________________________________________________\n"
     ]
    }
   ],
   "source": [
    "model3 = keras.Sequential()\n",
    "\n",
    "model3.add(keras.layers.Embedding(500, 16, input_length=100))\n",
    "# 마지막을 제외한 '순환층'에 return_sequences=True 추가\n",
    "model3.add(keras.layers.LSTM(8, dropout=0.3, return_sequences=True))\n",
    "model3.add(keras.layers.LSTM(8, dropout=0.3))\n",
    "model3.add(keras.layers.Dense(1, activation='sigmoid'))\n",
    "\n",
    "model3.summary()"
   ]
  },
  {
   "attachments": {},
   "cell_type": "markdown",
   "metadata": {},
   "source": [
    "첫번째 LSTM 층이 모든 타임스텝(100개)의 은닉 상태를 출력하기 때문에 출력 크기가 (None, 100, 8)이다.   \n",
    "두번째 LSTM 층은 마지막 타임스텝의 은닉 상태만 출력하기 때문에 (None, 8)이다."
   ]
  },
  {
   "cell_type": "code",
   "execution_count": 21,
   "metadata": {
    "colab": {
     "base_uri": "https://localhost:8080/"
    },
    "id": "hDk_ffAo6k2S",
    "outputId": "f7439e48-073f-4124-b10e-dea60f18f69d"
   },
   "outputs": [
    {
     "name": "stdout",
     "output_type": "stream",
     "text": [
      "Epoch 1/100\n",
      "313/313 [==============================] - 17s 45ms/step - loss: 0.6928 - accuracy: 0.5234 - val_loss: 0.6925 - val_accuracy: 0.5594\n",
      "Epoch 2/100\n",
      "313/313 [==============================] - 14s 43ms/step - loss: 0.6919 - accuracy: 0.5645 - val_loss: 0.6912 - val_accuracy: 0.6004\n",
      "Epoch 3/100\n",
      "313/313 [==============================] - 14s 45ms/step - loss: 0.6890 - accuracy: 0.6150 - val_loss: 0.6861 - val_accuracy: 0.6372\n",
      "Epoch 4/100\n",
      "313/313 [==============================] - 14s 46ms/step - loss: 0.6746 - accuracy: 0.6562 - val_loss: 0.6531 - val_accuracy: 0.6856\n",
      "Epoch 5/100\n",
      "313/313 [==============================] - 14s 45ms/step - loss: 0.6127 - accuracy: 0.6949 - val_loss: 0.5839 - val_accuracy: 0.7032\n",
      "Epoch 6/100\n",
      "313/313 [==============================] - 15s 48ms/step - loss: 0.5663 - accuracy: 0.7228 - val_loss: 0.5468 - val_accuracy: 0.7342\n",
      "Epoch 7/100\n",
      "313/313 [==============================] - 14s 44ms/step - loss: 0.5364 - accuracy: 0.7453 - val_loss: 0.5238 - val_accuracy: 0.7454\n",
      "Epoch 8/100\n",
      "313/313 [==============================] - 14s 44ms/step - loss: 0.5142 - accuracy: 0.7571 - val_loss: 0.5062 - val_accuracy: 0.7584\n",
      "Epoch 9/100\n",
      "313/313 [==============================] - 14s 45ms/step - loss: 0.4974 - accuracy: 0.7679 - val_loss: 0.4891 - val_accuracy: 0.7698\n",
      "Epoch 10/100\n",
      "313/313 [==============================] - 14s 44ms/step - loss: 0.4834 - accuracy: 0.7776 - val_loss: 0.4781 - val_accuracy: 0.7738\n",
      "Epoch 11/100\n",
      "313/313 [==============================] - 14s 44ms/step - loss: 0.4724 - accuracy: 0.7831 - val_loss: 0.4699 - val_accuracy: 0.7810\n",
      "Epoch 12/100\n",
      "313/313 [==============================] - 14s 43ms/step - loss: 0.4669 - accuracy: 0.7849 - val_loss: 0.4638 - val_accuracy: 0.7816\n",
      "Epoch 13/100\n",
      "313/313 [==============================] - 14s 44ms/step - loss: 0.4601 - accuracy: 0.7860 - val_loss: 0.4582 - val_accuracy: 0.7856\n",
      "Epoch 14/100\n",
      "313/313 [==============================] - 14s 44ms/step - loss: 0.4569 - accuracy: 0.7880 - val_loss: 0.4549 - val_accuracy: 0.7878\n",
      "Epoch 15/100\n",
      "313/313 [==============================] - 14s 44ms/step - loss: 0.4529 - accuracy: 0.7911 - val_loss: 0.4642 - val_accuracy: 0.7816\n",
      "Epoch 16/100\n",
      "313/313 [==============================] - 14s 45ms/step - loss: 0.4477 - accuracy: 0.7917 - val_loss: 0.4527 - val_accuracy: 0.7884\n",
      "Epoch 17/100\n",
      "313/313 [==============================] - 14s 44ms/step - loss: 0.4429 - accuracy: 0.7977 - val_loss: 0.4479 - val_accuracy: 0.7916\n",
      "Epoch 18/100\n",
      "313/313 [==============================] - 14s 45ms/step - loss: 0.4419 - accuracy: 0.7979 - val_loss: 0.4460 - val_accuracy: 0.7914\n",
      "Epoch 19/100\n",
      "313/313 [==============================] - 14s 44ms/step - loss: 0.4403 - accuracy: 0.7969 - val_loss: 0.4446 - val_accuracy: 0.7914\n",
      "Epoch 20/100\n",
      "313/313 [==============================] - 14s 44ms/step - loss: 0.4365 - accuracy: 0.8024 - val_loss: 0.4405 - val_accuracy: 0.7948\n",
      "Epoch 21/100\n",
      "313/313 [==============================] - 14s 44ms/step - loss: 0.4360 - accuracy: 0.7992 - val_loss: 0.4389 - val_accuracy: 0.7948\n",
      "Epoch 22/100\n",
      "313/313 [==============================] - 14s 45ms/step - loss: 0.4339 - accuracy: 0.8046 - val_loss: 0.4396 - val_accuracy: 0.7964\n",
      "Epoch 23/100\n",
      "313/313 [==============================] - 15s 46ms/step - loss: 0.4324 - accuracy: 0.8038 - val_loss: 0.4377 - val_accuracy: 0.7960\n",
      "Epoch 24/100\n",
      "313/313 [==============================] - 14s 44ms/step - loss: 0.4330 - accuracy: 0.8023 - val_loss: 0.4385 - val_accuracy: 0.7934\n",
      "Epoch 25/100\n",
      "313/313 [==============================] - 14s 43ms/step - loss: 0.4307 - accuracy: 0.8039 - val_loss: 0.4361 - val_accuracy: 0.7984\n",
      "Epoch 26/100\n",
      "313/313 [==============================] - 14s 45ms/step - loss: 0.4286 - accuracy: 0.8037 - val_loss: 0.4359 - val_accuracy: 0.7962\n",
      "Epoch 27/100\n",
      "313/313 [==============================] - 14s 45ms/step - loss: 0.4266 - accuracy: 0.8042 - val_loss: 0.4356 - val_accuracy: 0.7978\n",
      "Epoch 28/100\n",
      "313/313 [==============================] - 14s 45ms/step - loss: 0.4258 - accuracy: 0.8054 - val_loss: 0.4350 - val_accuracy: 0.7986\n",
      "Epoch 29/100\n",
      "313/313 [==============================] - 14s 45ms/step - loss: 0.4267 - accuracy: 0.8062 - val_loss: 0.4398 - val_accuracy: 0.7996\n",
      "Epoch 30/100\n",
      "313/313 [==============================] - 14s 44ms/step - loss: 0.4260 - accuracy: 0.8064 - val_loss: 0.4345 - val_accuracy: 0.7998\n",
      "Epoch 31/100\n",
      "313/313 [==============================] - 14s 46ms/step - loss: 0.4251 - accuracy: 0.8073 - val_loss: 0.4401 - val_accuracy: 0.7948\n",
      "Epoch 32/100\n",
      "313/313 [==============================] - 14s 44ms/step - loss: 0.4236 - accuracy: 0.8081 - val_loss: 0.4343 - val_accuracy: 0.7978\n",
      "Epoch 33/100\n",
      "313/313 [==============================] - 14s 44ms/step - loss: 0.4238 - accuracy: 0.8072 - val_loss: 0.4345 - val_accuracy: 0.8008\n",
      "Epoch 34/100\n",
      "313/313 [==============================] - 14s 44ms/step - loss: 0.4227 - accuracy: 0.8091 - val_loss: 0.4339 - val_accuracy: 0.8004\n",
      "Epoch 35/100\n",
      "313/313 [==============================] - 14s 45ms/step - loss: 0.4216 - accuracy: 0.8069 - val_loss: 0.4327 - val_accuracy: 0.8024\n",
      "Epoch 36/100\n",
      "313/313 [==============================] - 14s 44ms/step - loss: 0.4218 - accuracy: 0.8062 - val_loss: 0.4313 - val_accuracy: 0.8032\n",
      "Epoch 37/100\n",
      "313/313 [==============================] - 14s 44ms/step - loss: 0.4204 - accuracy: 0.8097 - val_loss: 0.4372 - val_accuracy: 0.7992\n",
      "Epoch 38/100\n",
      "313/313 [==============================] - 14s 44ms/step - loss: 0.4199 - accuracy: 0.8074 - val_loss: 0.4309 - val_accuracy: 0.8032\n",
      "Epoch 39/100\n",
      "313/313 [==============================] - 14s 44ms/step - loss: 0.4207 - accuracy: 0.8079 - val_loss: 0.4301 - val_accuracy: 0.8058\n",
      "Epoch 40/100\n",
      "313/313 [==============================] - 14s 46ms/step - loss: 0.4186 - accuracy: 0.8095 - val_loss: 0.4377 - val_accuracy: 0.7936\n",
      "Epoch 41/100\n",
      "313/313 [==============================] - 14s 44ms/step - loss: 0.4186 - accuracy: 0.8098 - val_loss: 0.4302 - val_accuracy: 0.8038\n",
      "Epoch 42/100\n",
      "313/313 [==============================] - 14s 44ms/step - loss: 0.4175 - accuracy: 0.8109 - val_loss: 0.4308 - val_accuracy: 0.8048\n"
     ]
    }
   ],
   "source": [
    "# 2개의 순환층이 있어서 더 느리다\n",
    "# 모델 컴파일\n",
    "rmsprop = keras.optimizers.RMSprop(learning_rate=1e-4)\n",
    "model3.compile(optimizer=rmsprop, loss='binary_crossentropy', \n",
    "               metrics=['accuracy'])\n",
    "\n",
    "# 체크포인트, 조기 종료 콜백 설정\n",
    "checkpoint_cb = keras.callbacks.ModelCheckpoint('best-2rnn-model.h5', \n",
    "                                                save_best_only=True)\n",
    "early_stopping_cb = keras.callbacks.EarlyStopping(patience=3,\n",
    "                                                  restore_best_weights=True)\n",
    "\n",
    "# 모델 훈련\n",
    "history = model3.fit(train_seq, train_target, epochs=100, batch_size=64,\n",
    "                     validation_data=(val_seq, val_target),\n",
    "                     callbacks=[checkpoint_cb, early_stopping_cb])"
   ]
  },
  {
   "cell_type": "code",
   "execution_count": 22,
   "metadata": {
    "colab": {
     "base_uri": "https://localhost:8080/",
     "height": 279
    },
    "id": "1paBqczf6k2S",
    "outputId": "8dec69f9-2aa3-4b2f-f5c9-c0d2713ab4f6"
   },
   "outputs": [
    {
     "data": {
      "image/png": "[encoded data removed]",
      "text/plain": [
       "<Figure size 640x480 with 1 Axes>"
      ]
     },
     "metadata": {},
     "output_type": "display_data"
    }
   ],
   "source": [
    "plt.plot(history.history['loss'])\n",
    "plt.plot(history.history['val_loss'])\n",
    "plt.xlabel('epoch')\n",
    "plt.ylabel('loss')\n",
    "plt.legend(['train', 'val'])\n",
    "plt.show()"
   ]
  },
  {
   "attachments": {},
   "cell_type": "markdown",
   "metadata": {},
   "source": [
    "일반적으로 순환층을 쌓으면 성능이 높아지지만, 이 예제에서는 그리 큰 효과를 내지는 못했다.   \n",
    "그래프를 보면, 과대적합을 제어하면서 손실을 최대한 낮춘것을 확인할 수 있다."
   ]
  },
  {
   "attachments": {},
   "cell_type": "markdown",
   "metadata": {
    "id": "Jisn0P9h6k2T"
   },
   "source": [
    "## GRU 신경망 훈련하기\n",
    "GRU(Gated Recurrent Unit) : LSTM을 간소화한 버전   \n",
    "셀 상태를 계산하지 않고, 은닉 상태 하나만 포함하고 있다.   \n",
    "\n",
    "**삭제 게이트**: <u>$w_z$ 가중치를 사용한 셀의 출력</u>이 sigmoid 함수를 통과해 은닉상태에 바로 곱한다.   \n",
    "**입력 정보 제어**: 1에서 <u>$w_z$ 가중치를 사용한 셀의 출력</u>을 뺀 값을 <u>$w_g$ 가중치를 사용한 셀의 출력</u>에 곱한다.   \n",
    "**은닉 상태 정보 제어**: <u>$w_r$ 가중치를 사용한 셀의 출력</u>은 <u>$w_g$ 가중치에 입력될 은닉 상태 정보를 제어</u>한다.\n",
    "\n",
    "<img src=\"GRU.PNG\" width=500>"
   ]
  },
  {
   "cell_type": "code",
   "execution_count": 23,
   "metadata": {
    "colab": {
     "base_uri": "https://localhost:8080/"
    },
    "id": "dwYF578d6k2T",
    "outputId": "72677151-359c-4d9c-9fd0-026c778f4ad5"
   },
   "outputs": [
    {
     "name": "stdout",
     "output_type": "stream",
     "text": [
      "Model: \"sequential_5\"\n",
      "_________________________________________________________________\n",
      " Layer (type)                Output Shape              Param #   \n",
      "=================================================================\n",
      " embedding_5 (Embedding)     (None, 100, 16)           8000      \n",
      "                                                                 \n",
      " gru (GRU)                   (None, 8)                 624       \n",
      "                                                                 \n",
      " dense_5 (Dense)             (None, 1)                 9         \n",
      "                                                                 \n",
      "=================================================================\n",
      "Total params: 8,633\n",
      "Trainable params: 8,633\n",
      "Non-trainable params: 0\n",
      "_________________________________________________________________\n"
     ]
    }
   ],
   "source": [
    "model4 = keras.Sequential()\n",
    "\n",
    "model4.add(keras.layers.Embedding(500, 16, input_length=100))\n",
    "# GRU 클래스를 사용한 것 외에 이전 모델과 동일\n",
    "model4.add(keras.layers.GRU(8))\n",
    "model4.add(keras.layers.Dense(1, activation='sigmoid'))\n",
    "\n",
    "model4.summary()"
   ]
  },
  {
   "attachments": {},
   "cell_type": "markdown",
   "metadata": {},
   "source": [
    "GRU 층의 모델 파라미터 개수를 계산하면,   \n",
    "- 입력에 곱하는 가중치는 16 * 8 = 128개,   \n",
    "- 은닉 상태에 곱하는 가중치는 8 * 8 = 64개,   \n",
    "- 절편은 뉴런마다 하나씩 8개,   \n",
    "- 모두 더하면 128 + 64 + 8 = 200개,   \n",
    "- 작은 셀이 3개가 포함되어 있으므로, 모두 600개 모델 파라미터가 필요하다.   \n",
    "\n",
    "은닉 상태가 먼저 가중치 $w_h$와 곱해진 다음 G 세의 출력과 곱해진다.   \n",
    "이 때문에 은닉 상태에 곱해지는 가중치 외에 별도의 절편이 필요하다.   \n",
    "작은 셀마다 절편이 추가 -> 3 * 8 = 24개의 모델 파라미터가 추가된다.   \n",
    "\n",
    "즉, 최종적으로 모델 파라미터의 개수는 624개   \n",
    "\n",
    "<img src=\"GRU2.PNG\" width=500>"
   ]
  },
  {
   "cell_type": "code",
   "execution_count": 24,
   "metadata": {
    "colab": {
     "base_uri": "https://localhost:8080/"
    },
    "id": "j2SfOZ3v6k2U",
    "outputId": "80bc83ae-1472-4c03-f372-92a6572e71b8"
   },
   "outputs": [
    {
     "name": "stdout",
     "output_type": "stream",
     "text": [
      "Epoch 1/100\n",
      "313/313 [==============================] - 10s 27ms/step - loss: 0.6923 - accuracy: 0.5281 - val_loss: 0.6916 - val_accuracy: 0.5380\n",
      "Epoch 2/100\n",
      "313/313 [==============================] - 8s 26ms/step - loss: 0.6901 - accuracy: 0.5652 - val_loss: 0.6892 - val_accuracy: 0.5622\n",
      "Epoch 3/100\n",
      "313/313 [==============================] - 8s 25ms/step - loss: 0.6869 - accuracy: 0.5853 - val_loss: 0.6856 - val_accuracy: 0.5762\n",
      "Epoch 4/100\n",
      "313/313 [==============================] - 8s 26ms/step - loss: 0.6818 - accuracy: 0.6039 - val_loss: 0.6795 - val_accuracy: 0.6010\n",
      "Epoch 5/100\n",
      "313/313 [==============================] - 8s 26ms/step - loss: 0.6733 - accuracy: 0.6215 - val_loss: 0.6692 - val_accuracy: 0.6258\n",
      "Epoch 6/100\n",
      "313/313 [==============================] - 8s 26ms/step - loss: 0.6584 - accuracy: 0.6447 - val_loss: 0.6498 - val_accuracy: 0.6556\n",
      "Epoch 7/100\n",
      "313/313 [==============================] - 8s 26ms/step - loss: 0.6285 - accuracy: 0.6765 - val_loss: 0.6069 - val_accuracy: 0.6950\n",
      "Epoch 8/100\n",
      "313/313 [==============================] - 8s 26ms/step - loss: 0.5583 - accuracy: 0.7307 - val_loss: 0.5277 - val_accuracy: 0.7446\n",
      "Epoch 9/100\n",
      "313/313 [==============================] - 8s 27ms/step - loss: 0.5085 - accuracy: 0.7570 - val_loss: 0.5047 - val_accuracy: 0.7650\n",
      "Epoch 10/100\n",
      "313/313 [==============================] - 9s 28ms/step - loss: 0.4890 - accuracy: 0.7717 - val_loss: 0.4903 - val_accuracy: 0.7714\n",
      "Epoch 11/100\n",
      "313/313 [==============================] - 9s 28ms/step - loss: 0.4746 - accuracy: 0.7801 - val_loss: 0.4801 - val_accuracy: 0.7756\n",
      "Epoch 12/100\n",
      "313/313 [==============================] - 9s 28ms/step - loss: 0.4632 - accuracy: 0.7879 - val_loss: 0.4731 - val_accuracy: 0.7782\n",
      "Epoch 13/100\n",
      "313/313 [==============================] - 9s 27ms/step - loss: 0.4546 - accuracy: 0.7929 - val_loss: 0.4659 - val_accuracy: 0.7834\n",
      "Epoch 14/100\n",
      "313/313 [==============================] - 9s 27ms/step - loss: 0.4472 - accuracy: 0.7972 - val_loss: 0.4615 - val_accuracy: 0.7832\n",
      "Epoch 15/100\n",
      "313/313 [==============================] - 9s 28ms/step - loss: 0.4419 - accuracy: 0.8033 - val_loss: 0.4685 - val_accuracy: 0.7826\n",
      "Epoch 16/100\n",
      "313/313 [==============================] - 8s 27ms/step - loss: 0.4374 - accuracy: 0.8048 - val_loss: 0.4584 - val_accuracy: 0.7868\n",
      "Epoch 17/100\n",
      "313/313 [==============================] - 8s 27ms/step - loss: 0.4334 - accuracy: 0.8073 - val_loss: 0.4539 - val_accuracy: 0.7902\n",
      "Epoch 18/100\n",
      "313/313 [==============================] - 8s 27ms/step - loss: 0.4307 - accuracy: 0.8087 - val_loss: 0.4509 - val_accuracy: 0.7910\n",
      "Epoch 19/100\n",
      "313/313 [==============================] - 8s 27ms/step - loss: 0.4279 - accuracy: 0.8086 - val_loss: 0.4513 - val_accuracy: 0.7898\n",
      "Epoch 20/100\n",
      "313/313 [==============================] - 8s 26ms/step - loss: 0.4258 - accuracy: 0.8109 - val_loss: 0.4482 - val_accuracy: 0.7958\n",
      "Epoch 21/100\n",
      "313/313 [==============================] - 8s 27ms/step - loss: 0.4243 - accuracy: 0.8110 - val_loss: 0.4480 - val_accuracy: 0.7908\n",
      "Epoch 22/100\n",
      "313/313 [==============================] - 9s 27ms/step - loss: 0.4227 - accuracy: 0.8135 - val_loss: 0.4501 - val_accuracy: 0.7954\n",
      "Epoch 23/100\n",
      "313/313 [==============================] - 8s 26ms/step - loss: 0.4214 - accuracy: 0.8137 - val_loss: 0.4459 - val_accuracy: 0.7944\n",
      "Epoch 24/100\n",
      "313/313 [==============================] - 8s 27ms/step - loss: 0.4202 - accuracy: 0.8138 - val_loss: 0.4474 - val_accuracy: 0.7902\n",
      "Epoch 25/100\n",
      "313/313 [==============================] - 8s 26ms/step - loss: 0.4197 - accuracy: 0.8129 - val_loss: 0.4457 - val_accuracy: 0.7924\n",
      "Epoch 26/100\n",
      "313/313 [==============================] - 8s 27ms/step - loss: 0.4186 - accuracy: 0.8140 - val_loss: 0.4461 - val_accuracy: 0.7902\n",
      "Epoch 27/100\n",
      "313/313 [==============================] - 8s 27ms/step - loss: 0.4180 - accuracy: 0.8161 - val_loss: 0.4440 - val_accuracy: 0.7922\n",
      "Epoch 28/100\n",
      "313/313 [==============================] - 8s 27ms/step - loss: 0.4177 - accuracy: 0.8150 - val_loss: 0.4445 - val_accuracy: 0.7902\n",
      "Epoch 29/100\n",
      "313/313 [==============================] - 9s 28ms/step - loss: 0.4168 - accuracy: 0.8155 - val_loss: 0.4493 - val_accuracy: 0.7956\n",
      "Epoch 30/100\n",
      "313/313 [==============================] - 8s 27ms/step - loss: 0.4157 - accuracy: 0.8158 - val_loss: 0.4447 - val_accuracy: 0.7920\n"
     ]
    }
   ],
   "source": [
    "# 모델 컴파일\n",
    "rmsprop = keras.optimizers.RMSprop(learning_rate=1e-4)\n",
    "model4.compile(optimizer=rmsprop, loss='binary_crossentropy', \n",
    "               metrics=['accuracy'])\n",
    "\n",
    "# 체크포인트, 조기 종료 콜백\n",
    "checkpoint_cb = keras.callbacks.ModelCheckpoint('best-gru-model.h5', \n",
    "                                                save_best_only=True)\n",
    "early_stopping_cb = keras.callbacks.EarlyStopping(patience=3,\n",
    "                                                  restore_best_weights=True)\n",
    "\n",
    "# 모델 훈련\n",
    "history = model4.fit(train_seq, train_target, epochs=100, batch_size=64,\n",
    "                     validation_data=(val_seq, val_target),\n",
    "                     callbacks=[checkpoint_cb, early_stopping_cb])"
   ]
  },
  {
   "cell_type": "code",
   "execution_count": 25,
   "metadata": {
    "colab": {
     "base_uri": "https://localhost:8080/",
     "height": 279
    },
    "id": "3yUJM4nA6k2U",
    "outputId": "cf86c235-1135-4d0f-93c2-08b7cb98ead7"
   },
   "outputs": [
    {
     "data": {
      "image/png": "[encoded data removed]",
      "text/plain": [
       "<Figure size 640x480 with 1 Axes>"
      ]
     },
     "metadata": {},
     "output_type": "display_data"
    }
   ],
   "source": [
    "# 시각화\n",
    "plt.plot(history.history['loss'])\n",
    "plt.plot(history.history['val_loss'])\n",
    "plt.xlabel('epoch')\n",
    "plt.ylabel('loss')\n",
    "plt.legend(['train', 'val'])\n",
    "plt.show()"
   ]
  },
  {
   "attachments": {},
   "cell_type": "markdown",
   "metadata": {},
   "source": [
    "**메모리를 효율적으로 사용**하면서 LSTM와 거의 비슷한 성능을 내는 것을 확인할 수 있다.   \n",
    "(드롭아웃을 사용하지 않았기 때문에 훈련 손실과 검증 손실 간에 차이가 있다.)   \n",
    "~~드롭아웃 사용하면 성능이 떨어질 수 있나?~~"
   ]
  },
  {
   "cell_type": "code",
   "execution_count": 26,
   "metadata": {},
   "outputs": [
    {
     "name": "stdout",
     "output_type": "stream",
     "text": [
      "Model: \"sequential_6\"\n",
      "_________________________________________________________________\n",
      " Layer (type)                Output Shape              Param #   \n",
      "=================================================================\n",
      " embedding_6 (Embedding)     (None, 100, 16)           8000      \n",
      "                                                                 \n",
      " gru_1 (GRU)                 (None, 100, 8)            624       \n",
      "                                                                 \n",
      " gru_2 (GRU)                 (None, 8)                 432       \n",
      "                                                                 \n",
      " dense_6 (Dense)             (None, 1)                 9         \n",
      "                                                                 \n",
      "=================================================================\n",
      "Total params: 9,065\n",
      "Trainable params: 9,065\n",
      "Non-trainable params: 0\n",
      "_________________________________________________________________\n"
     ]
    }
   ],
   "source": [
    "# 레이어 2층 쌓고 + 드롭아웃 적용하면 어떨까해서 추가로 돌려본 것 ###########\n",
    "model5 = keras.Sequential()\n",
    "\n",
    "model5.add(keras.layers.Embedding(500, 16, input_length=100))\n",
    "model5.add(keras.layers.GRU(8, dropout=0.3, return_sequences=True))\n",
    "model5.add(keras.layers.GRU(8, dropout=0.3))\n",
    "model5.add(keras.layers.Dense(1, activation='sigmoid'))\n",
    "\n",
    "model5.summary()"
   ]
  },
  {
   "cell_type": "code",
   "execution_count": 27,
   "metadata": {},
   "outputs": [
    {
     "name": "stdout",
     "output_type": "stream",
     "text": [
      "Epoch 1/100\n",
      "313/313 [==============================] - 18s 50ms/step - loss: 0.6922 - accuracy: 0.5340 - val_loss: 0.6915 - val_accuracy: 0.5600\n",
      "Epoch 2/100\n",
      "313/313 [==============================] - 15s 49ms/step - loss: 0.6900 - accuracy: 0.5730 - val_loss: 0.6888 - val_accuracy: 0.5912\n",
      "Epoch 3/100\n",
      "313/313 [==============================] - 15s 49ms/step - loss: 0.6856 - accuracy: 0.5999 - val_loss: 0.6831 - val_accuracy: 0.6076\n",
      "Epoch 4/100\n",
      "313/313 [==============================] - 15s 49ms/step - loss: 0.6769 - accuracy: 0.6176 - val_loss: 0.6716 - val_accuracy: 0.6250\n",
      "Epoch 5/100\n",
      "313/313 [==============================] - 15s 48ms/step - loss: 0.6602 - accuracy: 0.6342 - val_loss: 0.6512 - val_accuracy: 0.6422\n",
      "Epoch 6/100\n",
      "313/313 [==============================] - 15s 48ms/step - loss: 0.6340 - accuracy: 0.6535 - val_loss: 0.6201 - val_accuracy: 0.6610\n",
      "Epoch 7/100\n",
      "313/313 [==============================] - 15s 49ms/step - loss: 0.6021 - accuracy: 0.6737 - val_loss: 0.5889 - val_accuracy: 0.6864\n",
      "Epoch 8/100\n",
      "313/313 [==============================] - 15s 49ms/step - loss: 0.5742 - accuracy: 0.6965 - val_loss: 0.5659 - val_accuracy: 0.7066\n",
      "Epoch 9/100\n",
      "313/313 [==============================] - 16s 50ms/step - loss: 0.5492 - accuracy: 0.7167 - val_loss: 0.5391 - val_accuracy: 0.7260\n",
      "Epoch 10/100\n",
      "313/313 [==============================] - 16s 52ms/step - loss: 0.5160 - accuracy: 0.7469 - val_loss: 0.5006 - val_accuracy: 0.7610\n",
      "Epoch 11/100\n",
      "313/313 [==============================] - 22s 71ms/step - loss: 0.4931 - accuracy: 0.7655 - val_loss: 0.4836 - val_accuracy: 0.7724\n",
      "Epoch 12/100\n",
      "313/313 [==============================] - 29s 92ms/step - loss: 0.4822 - accuracy: 0.7716 - val_loss: 0.4748 - val_accuracy: 0.7758\n",
      "Epoch 13/100\n",
      "313/313 [==============================] - 25s 81ms/step - loss: 0.4718 - accuracy: 0.7802 - val_loss: 0.4701 - val_accuracy: 0.7778\n",
      "Epoch 14/100\n",
      "313/313 [==============================] - 27s 86ms/step - loss: 0.4664 - accuracy: 0.7849 - val_loss: 0.4642 - val_accuracy: 0.7800\n",
      "Epoch 15/100\n",
      "313/313 [==============================] - 17s 53ms/step - loss: 0.4613 - accuracy: 0.7851 - val_loss: 0.4778 - val_accuracy: 0.7776\n",
      "Epoch 16/100\n",
      "313/313 [==============================] - 15s 48ms/step - loss: 0.4560 - accuracy: 0.7929 - val_loss: 0.4588 - val_accuracy: 0.7888\n",
      "Epoch 17/100\n",
      "313/313 [==============================] - 15s 49ms/step - loss: 0.4538 - accuracy: 0.7908 - val_loss: 0.4537 - val_accuracy: 0.7896\n",
      "Epoch 18/100\n",
      "313/313 [==============================] - 15s 49ms/step - loss: 0.4502 - accuracy: 0.7952 - val_loss: 0.4522 - val_accuracy: 0.7892\n",
      "Epoch 19/100\n",
      "313/313 [==============================] - 17s 53ms/step - loss: 0.4473 - accuracy: 0.7964 - val_loss: 0.4515 - val_accuracy: 0.7900\n",
      "Epoch 20/100\n",
      "313/313 [==============================] - 16s 52ms/step - loss: 0.4442 - accuracy: 0.7973 - val_loss: 0.4482 - val_accuracy: 0.7922\n",
      "Epoch 21/100\n",
      "313/313 [==============================] - 16s 51ms/step - loss: 0.4421 - accuracy: 0.7987 - val_loss: 0.4470 - val_accuracy: 0.7898\n",
      "Epoch 22/100\n",
      "313/313 [==============================] - 16s 51ms/step - loss: 0.4409 - accuracy: 0.7978 - val_loss: 0.4522 - val_accuracy: 0.7924\n",
      "Epoch 23/100\n",
      "313/313 [==============================] - 16s 52ms/step - loss: 0.4399 - accuracy: 0.7992 - val_loss: 0.4436 - val_accuracy: 0.7964\n",
      "Epoch 24/100\n",
      "313/313 [==============================] - 16s 51ms/step - loss: 0.4353 - accuracy: 0.8045 - val_loss: 0.4451 - val_accuracy: 0.7904\n",
      "Epoch 25/100\n",
      "313/313 [==============================] - 27s 86ms/step - loss: 0.4364 - accuracy: 0.8029 - val_loss: 0.4446 - val_accuracy: 0.7896\n",
      "Epoch 26/100\n",
      "313/313 [==============================] - 26s 85ms/step - loss: 0.4333 - accuracy: 0.8048 - val_loss: 0.4478 - val_accuracy: 0.7896\n"
     ]
    }
   ],
   "source": [
    "rmsprop = keras.optimizers.RMSprop(learning_rate=1e-4)\n",
    "model5.compile(optimizer=rmsprop, loss='binary_crossentropy', \n",
    "               metrics=['accuracy'])\n",
    "\n",
    "checkpoint_cb = keras.callbacks.ModelCheckpoint('best-gru-model.h5', \n",
    "                                                save_best_only=True)\n",
    "early_stopping_cb = keras.callbacks.EarlyStopping(patience=3,\n",
    "                                                  restore_best_weights=True)\n",
    "\n",
    "history = model5.fit(train_seq, train_target, epochs=100, batch_size=64,\n",
    "                     validation_data=(val_seq, val_target),\n",
    "                     callbacks=[checkpoint_cb, early_stopping_cb])"
   ]
  },
  {
   "cell_type": "code",
   "execution_count": 28,
   "metadata": {},
   "outputs": [
    {
     "data": {
      "image/png": "[encoded data removed]",
      "text/plain": [
       "<Figure size 640x480 with 1 Axes>"
      ]
     },
     "metadata": {},
     "output_type": "display_data"
    }
   ],
   "source": [
    "plt.plot(history.history['loss'])\n",
    "plt.plot(history.history['val_loss'])\n",
    "plt.xlabel('epoch')\n",
    "plt.ylabel('loss')\n",
    "plt.legend(['train', 'val'])\n",
    "plt.show()"
   ]
  },
  {
   "attachments": {},
   "cell_type": "markdown",
   "metadata": {},
   "source": [
    "과대적합이 잘 억제된 것을 확인함. = 드롭아웃의 효과.   \n",
    "성능이 높아지진 않았다.   "
   ]
  },
  {
   "cell_type": "markdown",
   "metadata": {
    "id": "Ja3-116b6k2V"
   },
   "source": [
    "## 마무리"
   ]
  },
  {
   "attachments": {},
   "cell_type": "markdown",
   "metadata": {},
   "source": [
    "가장 좋은 결과값을 보였던 2개의 순환층을 쌓은 모델을 다시 로드하여 테스트 세트에 대한 성능을 확인해보자.   "
   ]
  },
  {
   "cell_type": "code",
   "execution_count": 30,
   "metadata": {
    "colab": {
     "base_uri": "https://localhost:8080/"
    },
    "id": "-5WtFRN-6k2V",
    "outputId": "dbbf3f1d-3cd9-49cf-bf90-233ecac13134",
    "tags": []
   },
   "outputs": [
    {
     "name": "stdout",
     "output_type": "stream",
     "text": [
      "782/782 [==============================] - 9s 11ms/step - loss: 0.4255 - accuracy: 0.8015\n"
     ]
    },
    {
     "data": {
      "text/plain": [
       "[0.42554888129234314, 0.8014799952507019]"
      ]
     },
     "execution_count": 30,
     "metadata": {},
     "output_type": "execute_result"
    }
   ],
   "source": [
    "# 테스트 세트를 훈련세트와 동일한 방식으로 변환 (길이를 100으로 패딩)\n",
    "test_seq = pad_sequences(test_input, maxlen=100)\n",
    "\n",
    "# 2개 순환층을 가진 베스트 모델 불러오기\n",
    "rnn_model = keras.models.load_model('best-2rnn-model.h5')\n",
    "\n",
    "# evaluate() 메서드로 테스트 세트에서의 성능 확인\n",
    "rnn_model.evaluate(test_seq, test_target)"
   ]
  },
  {
   "attachments": {},
   "cell_type": "markdown",
   "metadata": {},
   "source": [
    "드롭아웃을 적용하여 과대적합을 잘 억제했기 때문에 테스트 세트의 성능이 검증 세트와 크게 차이가 나지 않는다."
   ]
  }
 ],
 "metadata": {
  "accelerator": "GPU",
  "colab": {
   "name": "9-3.ipynb",
   "provenance": []
  },
  "kernelspec": {
   "display_name": "base",
   "language": "python",
   "name": "python3"
  },
  "language_info": {
   "codemirror_mode": {
    "name": "ipython",
    "version": 3
   },
   "file_extension": ".py",
   "mimetype": "text/x-python",
   "name": "python",
   "nbconvert_exporter": "python",
   "pygments_lexer": "ipython3",
   "version": "3.9.13"
  }
 },
 "nbformat": 4,
 "nbformat_minor": 4
}
